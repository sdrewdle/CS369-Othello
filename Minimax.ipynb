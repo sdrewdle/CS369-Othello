{
 "cells": [
  {
   "cell_type": "markdown",
   "metadata": {},
   "source": [
    "# Minimax\n",
    "## Used for competitive games\n",
    "\n",
    "### Agenda \n",
    "- Minimax\n",
    "- Code\n",
    "- Large Games\n",
    "- Variations"
   ]
  },
  {
   "cell_type": "markdown",
   "metadata": {},
   "source": [
    "https://www.yosenspace.com/posts/computer-science-game-trees.html\n",
    "Basically since games go back and forth, one player wants minimum (P1 winning) and the other wants the maximum (P2 winning). Thus, you go back and forth on the tree doing min then max until you get to the end **Depth First Search**"
   ]
  },
  {
   "cell_type": "markdown",
   "metadata": {},
   "source": [
    "```\n",
    "Represent Sate\n",
    "    Print\n",
    "Find Legal Moves\n",
    "Successor\n",
    "Detect Wins\n",
    "Minimax\n",
    "Best Move\n",
    "UI \n",
    "```"
   ]
  },
  {
   "cell_type": "markdown",
   "metadata": {},
   "source": [
    "x's are x\n",
    "o's are o\n",
    "'.' is black spots\n",
    "The code below creates the board\n",
    "0 1 2\n",
    "3 4 5 \n",
    "6 7 8"
   ]
  },
  {
   "cell_type": "code",
   "execution_count": 45,
   "metadata": {},
   "outputs": [
    {
     "name": "stdout",
     "output_type": "stream",
     "text": [
      "Game Over\n"
     ]
    }
   ],
   "source": [
    "initial_state='.'*9\n",
    "winning_lines=('012', '345', '678', '036', '147', '258', '246','048')\n",
    "def prettify(state):\n",
    "    result=''\n",
    "    for i, square in enumerate(state):\n",
    "        result+=square\n",
    "        if i%3==2:\n",
    "            result +='\\n'\n",
    "    return result\n",
    "\n",
    "def legal_moves(state):\n",
    "    \"\"\"Doc string here\"\"\"\n",
    "    return(i for i, square in enumerate(state) if square =='.')\n",
    "def successor(state, move, player): \n",
    "    return state[: move]+player+state[move+1:]\n",
    "def winner(state):\n",
    "    \"\"\"return 0 if there is a tie; return 1 if x wins; return -1 if o wins; return none if game has not ended\"\"\"\n",
    "    for line in winning_lines:\n",
    "        a,b,c=map(int, line)\n",
    "        if state[a]== state[b]==state[c] and state[a]!='.':\n",
    "            if state[a]==\"X\":\n",
    "                return 1\n",
    "            else:\n",
    "                return -1\n",
    "    if '.' not in state:\n",
    "        return 0\n",
    "        \n",
    "def minimax(state, player):\n",
    "    score=winner(state)\n",
    "    if score is not None:\n",
    "        return score\n",
    "    successors=(successor(state, move, player) for move in legal_moves(state))\n",
    "    if player=='X':\n",
    "        return max(minimax(s, 'O') for s in successors)\n",
    "    if player=='O':\n",
    "        return min(minimax(s,'X') for s in successors)\n",
    "def best_move(state, player):\n",
    "    moves=legal_moves(state)\n",
    "    if player=='X':\n",
    "        return max(moves, key=lambda m: minimax(successor(state, m, player), 'O'))\n",
    "    else:\n",
    "        return min(moves, key=lambda m: minimax(successor(state, m, player), 'X'))\n",
    "\n",
    "state=initial_state\n",
    "while winner(state) is not None:\n",
    "    move=best_move(state, 'X')\n",
    "    state=sucessor(state, move, 'X')\n",
    "    print(prettify(state))\n",
    "    if winner(state) is not None: \n",
    "        break\n",
    "    move=int(input(\"Enter a square (0-8):\"))\n",
    "    state=sucessor(state, move, 'O')\n",
    "print('Game Over')"
   ]
  },
  {
   "cell_type": "code",
   "execution_count": 14,
   "metadata": {},
   "outputs": [
    {
     "name": "stdout",
     "output_type": "stream",
     "text": [
      "X..\n",
      "...\n",
      ".0.\n",
      "\n"
     ]
    }
   ],
   "source": [
    "print(prettify('X......0.'))"
   ]
  },
  {
   "cell_type": "code",
   "execution_count": 17,
   "metadata": {},
   "outputs": [
    {
     "name": "stdout",
     "output_type": "stream",
     "text": [
      "[1, 2, 3, 4, 5, 6, 8]\n"
     ]
    }
   ],
   "source": [
    "print(list(legal_moves('X......0.')))"
   ]
  },
  {
   "cell_type": "code",
   "execution_count": 20,
   "metadata": {},
   "outputs": [
    {
     "name": "stdout",
     "output_type": "stream",
     "text": [
      "X.X\n",
      "...\n",
      ".0.\n",
      "\n"
     ]
    }
   ],
   "source": [
    "print(prettify(successor('X......0.', 2, 'X')))"
   ]
  },
  {
   "cell_type": "code",
   "execution_count": 30,
   "metadata": {},
   "outputs": [
    {
     "name": "stdout",
     "output_type": "stream",
     "text": [
      "None\n"
     ]
    }
   ],
   "source": [
    "print(winner('.........'))\n",
    "#print(winner('000..X.XX'))"
   ]
  },
  {
   "cell_type": "code",
   "execution_count": 38,
   "metadata": {},
   "outputs": [
    {
     "data": {
      "text/plain": [
       "1"
      ]
     },
     "execution_count": 38,
     "metadata": {},
     "output_type": "execute_result"
    }
   ],
   "source": [
    "minimax('OOX.XXOXO', 'X')\n",
    "#minimax('OOX.X.OX.', 'X')"
   ]
  },
  {
   "cell_type": "code",
   "execution_count": 42,
   "metadata": {},
   "outputs": [
    {
     "data": {
      "text/plain": [
       "3"
      ]
     },
     "execution_count": 42,
     "metadata": {},
     "output_type": "execute_result"
    }
   ],
   "source": [
    "best_move('OOX.X.OX.', 'X')"
   ]
  },
  {
   "cell_type": "markdown",
   "metadata": {},
   "source": [
    "### Minimax Variations\n",
    "``` \n",
    "Opening Boook\n",
    "Endgame Book\n",
    "Depth-limited Search\n",
    "State escalation function\n",
    "Transposition table\n",
    "Alpha-Beta Pruning\n",
    "Heuristic Move Suggestion\n",
    "\n",
    "````"
   ]
  },
  {
   "cell_type": "code",
   "execution_count": null,
   "metadata": {},
   "outputs": [],
   "source": []
  }
 ],
 "metadata": {
  "kernelspec": {
   "display_name": "Python 3",
   "language": "python",
   "name": "python3"
  },
  "language_info": {
   "codemirror_mode": {
    "name": "ipython",
    "version": 3
   },
   "file_extension": ".py",
   "mimetype": "text/x-python",
   "name": "python",
   "nbconvert_exporter": "python",
   "pygments_lexer": "ipython3",
   "version": "3.7.0b1"
  }
 },
 "nbformat": 4,
 "nbformat_minor": 2
}
